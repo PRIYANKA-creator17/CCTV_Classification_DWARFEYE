{
  "nbformat": 4,
  "nbformat_minor": 0,
  "metadata": {
    "colab": {
      "provenance": [],
      "gpuType": "T4"
    },
    "kernelspec": {
      "name": "python3",
      "display_name": "Python 3"
    },
    "language_info": {
      "name": "python"
    },
    "accelerator": "GPU"
  },
  "cells": [
    {
      "cell_type": "code",
      "source": [
        "# Cell 1: Install dependencies\n",
        "# Use CUDA 11.8 PyTorch wheels (Colab typically supports these). If it fails, try the pip installs without the extra index.\n",
        "!pip install -U torch torchvision --extra-index-url https://download.pytorch.org/whl/cu118\n",
        "!pip install decord==0.6.4 ffmpeg-python tqdm\n"
      ],
      "metadata": {
        "colab": {
          "base_uri": "https://localhost:8080/"
        },
        "id": "4d_thHEplok4",
        "outputId": "8661d8db-91d0-430a-9fb8-0f6c5df8c77f"
      },
      "execution_count": 1,
      "outputs": [
        {
          "output_type": "stream",
          "name": "stdout",
          "text": [
            "Looking in indexes: https://pypi.org/simple, https://download.pytorch.org/whl/cu118\n",
            "Requirement already satisfied: torch in /usr/local/lib/python3.11/dist-packages (2.6.0+cu124)\n",
            "Collecting torch\n",
            "  Downloading torch-2.8.0-cp311-cp311-manylinux_2_28_x86_64.whl.metadata (30 kB)\n",
            "Requirement already satisfied: torchvision in /usr/local/lib/python3.11/dist-packages (0.21.0+cu124)\n",
            "Collecting torchvision\n",
            "  Downloading torchvision-0.23.0-cp311-cp311-manylinux_2_28_x86_64.whl.metadata (6.1 kB)\n",
            "Requirement already satisfied: filelock in /usr/local/lib/python3.11/dist-packages (from torch) (3.18.0)\n",
            "Requirement already satisfied: typing-extensions>=4.10.0 in /usr/local/lib/python3.11/dist-packages (from torch) (4.14.1)\n",
            "Collecting sympy>=1.13.3 (from torch)\n",
            "  Downloading sympy-1.14.0-py3-none-any.whl.metadata (12 kB)\n",
            "Requirement already satisfied: networkx in /usr/local/lib/python3.11/dist-packages (from torch) (3.5)\n",
            "Requirement already satisfied: jinja2 in /usr/local/lib/python3.11/dist-packages (from torch) (3.1.6)\n",
            "Requirement already satisfied: fsspec in /usr/local/lib/python3.11/dist-packages (from torch) (2025.3.0)\n",
            "Collecting nvidia-cuda-nvrtc-cu12==12.8.93 (from torch)\n",
            "  Downloading nvidia_cuda_nvrtc_cu12-12.8.93-py3-none-manylinux2010_x86_64.manylinux_2_12_x86_64.whl.metadata (1.7 kB)\n",
            "Collecting nvidia-cuda-runtime-cu12==12.8.90 (from torch)\n",
            "  Downloading nvidia_cuda_runtime_cu12-12.8.90-py3-none-manylinux2014_x86_64.manylinux_2_17_x86_64.whl.metadata (1.7 kB)\n",
            "Collecting nvidia-cuda-cupti-cu12==12.8.90 (from torch)\n",
            "  Downloading nvidia_cuda_cupti_cu12-12.8.90-py3-none-manylinux2014_x86_64.manylinux_2_17_x86_64.whl.metadata (1.7 kB)\n",
            "Collecting nvidia-cudnn-cu12==9.10.2.21 (from torch)\n",
            "  Downloading https://download.pytorch.org/whl/nvidia_cudnn_cu12-9.10.2.21-py3-none-manylinux_2_27_x86_64.whl.metadata (1.8 kB)\n",
            "Collecting nvidia-cublas-cu12==12.8.4.1 (from torch)\n",
            "  Downloading nvidia_cublas_cu12-12.8.4.1-py3-none-manylinux_2_27_x86_64.whl.metadata (1.7 kB)\n",
            "Collecting nvidia-cufft-cu12==11.3.3.83 (from torch)\n",
            "  Downloading nvidia_cufft_cu12-11.3.3.83-py3-none-manylinux2014_x86_64.manylinux_2_17_x86_64.whl.metadata (1.7 kB)\n",
            "Collecting nvidia-curand-cu12==10.3.9.90 (from torch)\n",
            "  Downloading nvidia_curand_cu12-10.3.9.90-py3-none-manylinux_2_27_x86_64.whl.metadata (1.7 kB)\n",
            "Collecting nvidia-cusolver-cu12==11.7.3.90 (from torch)\n",
            "  Downloading nvidia_cusolver_cu12-11.7.3.90-py3-none-manylinux_2_27_x86_64.whl.metadata (1.8 kB)\n",
            "Collecting nvidia-cusparse-cu12==12.5.8.93 (from torch)\n",
            "  Downloading nvidia_cusparse_cu12-12.5.8.93-py3-none-manylinux2014_x86_64.manylinux_2_17_x86_64.whl.metadata (1.8 kB)\n",
            "Collecting nvidia-cusparselt-cu12==0.7.1 (from torch)\n",
            "  Downloading https://download.pytorch.org/whl/nvidia_cusparselt_cu12-0.7.1-py3-none-manylinux2014_x86_64.whl.metadata (7.0 kB)\n",
            "Collecting nvidia-nccl-cu12==2.27.3 (from torch)\n",
            "  Downloading https://download.pytorch.org/whl/nvidia_nccl_cu12-2.27.3-py3-none-manylinux2014_x86_64.manylinux_2_17_x86_64.whl.metadata (2.0 kB)\n",
            "Collecting nvidia-nvtx-cu12==12.8.90 (from torch)\n",
            "  Downloading nvidia_nvtx_cu12-12.8.90-py3-none-manylinux2014_x86_64.manylinux_2_17_x86_64.whl.metadata (1.8 kB)\n",
            "Collecting nvidia-nvjitlink-cu12==12.8.93 (from torch)\n",
            "  Downloading nvidia_nvjitlink_cu12-12.8.93-py3-none-manylinux2010_x86_64.manylinux_2_12_x86_64.whl.metadata (1.7 kB)\n",
            "Collecting nvidia-cufile-cu12==1.13.1.3 (from torch)\n",
            "  Downloading nvidia_cufile_cu12-1.13.1.3-py3-none-manylinux2014_x86_64.manylinux_2_17_x86_64.whl.metadata (1.7 kB)\n",
            "Collecting triton==3.4.0 (from torch)\n",
            "  Downloading https://download.pytorch.org/whl/triton-3.4.0-cp311-cp311-manylinux_2_27_x86_64.manylinux_2_28_x86_64.whl.metadata (1.7 kB)\n",
            "Requirement already satisfied: setuptools>=40.8.0 in /usr/local/lib/python3.11/dist-packages (from triton==3.4.0->torch) (75.2.0)\n",
            "Requirement already satisfied: numpy in /usr/local/lib/python3.11/dist-packages (from torchvision) (2.0.2)\n",
            "Requirement already satisfied: pillow!=8.3.*,>=5.3.0 in /usr/local/lib/python3.11/dist-packages (from torchvision) (11.3.0)\n",
            "Requirement already satisfied: mpmath<1.4,>=1.1.0 in /usr/local/lib/python3.11/dist-packages (from sympy>=1.13.3->torch) (1.3.0)\n",
            "Requirement already satisfied: MarkupSafe>=2.0 in /usr/local/lib/python3.11/dist-packages (from jinja2->torch) (3.0.2)\n",
            "Downloading torch-2.8.0-cp311-cp311-manylinux_2_28_x86_64.whl (888.1 MB)\n",
            "\u001b[2K   \u001b[90m━━━━━━━━━━━━━━━━━━━━━━━━━━━━━━━━━━━━━━━━\u001b[0m \u001b[32m888.1/888.1 MB\u001b[0m \u001b[31m1.8 MB/s\u001b[0m eta \u001b[36m0:00:00\u001b[0m\n",
            "\u001b[?25hDownloading nvidia_cublas_cu12-12.8.4.1-py3-none-manylinux_2_27_x86_64.whl (594.3 MB)\n",
            "\u001b[2K   \u001b[90m━━━━━━━━━━━━━━━━━━━━━━━━━━━━━━━━━━━━━━━━\u001b[0m \u001b[32m594.3/594.3 MB\u001b[0m \u001b[31m2.3 MB/s\u001b[0m eta \u001b[36m0:00:00\u001b[0m\n",
            "\u001b[?25hDownloading nvidia_cuda_cupti_cu12-12.8.90-py3-none-manylinux2014_x86_64.manylinux_2_17_x86_64.whl (10.2 MB)\n",
            "\u001b[2K   \u001b[90m━━━━━━━━━━━━━━━━━━━━━━━━━━━━━━━━━━━━━━━━\u001b[0m \u001b[32m10.2/10.2 MB\u001b[0m \u001b[31m120.6 MB/s\u001b[0m eta \u001b[36m0:00:00\u001b[0m\n",
            "\u001b[?25hDownloading nvidia_cuda_nvrtc_cu12-12.8.93-py3-none-manylinux2010_x86_64.manylinux_2_12_x86_64.whl (88.0 MB)\n",
            "\u001b[2K   \u001b[90m━━━━━━━━━━━━━━━━━━━━━━━━━━━━━━━━━━━━━━━━\u001b[0m \u001b[32m88.0/88.0 MB\u001b[0m \u001b[31m9.2 MB/s\u001b[0m eta \u001b[36m0:00:00\u001b[0m\n",
            "\u001b[?25hDownloading nvidia_cuda_runtime_cu12-12.8.90-py3-none-manylinux2014_x86_64.manylinux_2_17_x86_64.whl (954 kB)\n",
            "\u001b[2K   \u001b[90m━━━━━━━━━━━━━━━━━━━━━━━━━━━━━━━━━━━━━━━━\u001b[0m \u001b[32m954.8/954.8 kB\u001b[0m \u001b[31m45.8 MB/s\u001b[0m eta \u001b[36m0:00:00\u001b[0m\n",
            "\u001b[?25hDownloading https://download.pytorch.org/whl/nvidia_cudnn_cu12-9.10.2.21-py3-none-manylinux_2_27_x86_64.whl (706.8 MB)\n",
            "\u001b[2K   \u001b[90m━━━━━━━━━━━━━━━━━━━━━━━━━━━━━━━━━━━━━━━━\u001b[0m \u001b[32m706.8/706.8 MB\u001b[0m \u001b[31m2.7 MB/s\u001b[0m eta \u001b[36m0:00:00\u001b[0m\n",
            "\u001b[?25hDownloading nvidia_cufft_cu12-11.3.3.83-py3-none-manylinux2014_x86_64.manylinux_2_17_x86_64.whl (193.1 MB)\n",
            "\u001b[2K   \u001b[90m━━━━━━━━━━━━━━━━━━━━━━━━━━━━━━━━━━━━━━━━\u001b[0m \u001b[32m193.1/193.1 MB\u001b[0m \u001b[31m5.8 MB/s\u001b[0m eta \u001b[36m0:00:00\u001b[0m\n",
            "\u001b[?25hDownloading nvidia_cufile_cu12-1.13.1.3-py3-none-manylinux2014_x86_64.manylinux_2_17_x86_64.whl (1.2 MB)\n",
            "\u001b[2K   \u001b[90m━━━━━━━━━━━━━━━━━━━━━━━━━━━━━━━━━━━━━━━━\u001b[0m \u001b[32m1.2/1.2 MB\u001b[0m \u001b[31m53.5 MB/s\u001b[0m eta \u001b[36m0:00:00\u001b[0m\n",
            "\u001b[?25hDownloading nvidia_curand_cu12-10.3.9.90-py3-none-manylinux_2_27_x86_64.whl (63.6 MB)\n",
            "\u001b[2K   \u001b[90m━━━━━━━━━━━━━━━━━━━━━━━━━━━━━━━━━━━━━━━━\u001b[0m \u001b[32m63.6/63.6 MB\u001b[0m \u001b[31m12.8 MB/s\u001b[0m eta \u001b[36m0:00:00\u001b[0m\n",
            "\u001b[?25hDownloading nvidia_cusolver_cu12-11.7.3.90-py3-none-manylinux_2_27_x86_64.whl (267.5 MB)\n",
            "\u001b[2K   \u001b[90m━━━━━━━━━━━━━━━━━━━━━━━━━━━━━━━━━━━━━━━━\u001b[0m \u001b[32m267.5/267.5 MB\u001b[0m \u001b[31m4.6 MB/s\u001b[0m eta \u001b[36m0:00:00\u001b[0m\n",
            "\u001b[?25hDownloading nvidia_cusparse_cu12-12.5.8.93-py3-none-manylinux2014_x86_64.manylinux_2_17_x86_64.whl (288.2 MB)\n",
            "\u001b[2K   \u001b[90m━━━━━━━━━━━━━━━━━━━━━━━━━━━━━━━━━━━━━━━━\u001b[0m \u001b[32m288.2/288.2 MB\u001b[0m \u001b[31m4.6 MB/s\u001b[0m eta \u001b[36m0:00:00\u001b[0m\n",
            "\u001b[?25hDownloading https://download.pytorch.org/whl/nvidia_cusparselt_cu12-0.7.1-py3-none-manylinux2014_x86_64.whl (287.2 MB)\n",
            "\u001b[2K   \u001b[90m━━━━━━━━━━━━━━━━━━━━━━━━━━━━━━━━━━━━━━━━\u001b[0m \u001b[32m287.2/287.2 MB\u001b[0m \u001b[31m5.0 MB/s\u001b[0m eta \u001b[36m0:00:00\u001b[0m\n",
            "\u001b[?25hDownloading https://download.pytorch.org/whl/nvidia_nccl_cu12-2.27.3-py3-none-manylinux2014_x86_64.manylinux_2_17_x86_64.whl (322.4 MB)\n",
            "\u001b[2K   \u001b[90m━━━━━━━━━━━━━━━━━━━━━━━━━━━━━━━━━━━━━━━━\u001b[0m \u001b[32m322.4/322.4 MB\u001b[0m \u001b[31m5.4 MB/s\u001b[0m eta \u001b[36m0:00:00\u001b[0m\n",
            "\u001b[?25hDownloading nvidia_nvjitlink_cu12-12.8.93-py3-none-manylinux2010_x86_64.manylinux_2_12_x86_64.whl (39.3 MB)\n",
            "\u001b[2K   \u001b[90m━━━━━━━━━━━━━━━━━━━━━━━━━━━━━━━━━━━━━━━━\u001b[0m \u001b[32m39.3/39.3 MB\u001b[0m \u001b[31m55.0 MB/s\u001b[0m eta \u001b[36m0:00:00\u001b[0m\n",
            "\u001b[?25hDownloading nvidia_nvtx_cu12-12.8.90-py3-none-manylinux2014_x86_64.manylinux_2_17_x86_64.whl (89 kB)\n",
            "\u001b[2K   \u001b[90m━━━━━━━━━━━━━━━━━━━━━━━━━━━━━━━━━━━━━━━━\u001b[0m \u001b[32m90.0/90.0 kB\u001b[0m \u001b[31m6.2 MB/s\u001b[0m eta \u001b[36m0:00:00\u001b[0m\n",
            "\u001b[?25hDownloading https://download.pytorch.org/whl/triton-3.4.0-cp311-cp311-manylinux_2_27_x86_64.manylinux_2_28_x86_64.whl (155.5 MB)\n",
            "\u001b[2K   \u001b[90m━━━━━━━━━━━━━━━━━━━━━━━━━━━━━━━━━━━━━━━━\u001b[0m \u001b[32m155.5/155.5 MB\u001b[0m \u001b[31m6.5 MB/s\u001b[0m eta \u001b[36m0:00:00\u001b[0m\n",
            "\u001b[?25hDownloading torchvision-0.23.0-cp311-cp311-manylinux_2_28_x86_64.whl (8.6 MB)\n",
            "\u001b[2K   \u001b[90m━━━━━━━━━━━━━━━━━━━━━━━━━━━━━━━━━━━━━━━━\u001b[0m \u001b[32m8.6/8.6 MB\u001b[0m \u001b[31m60.3 MB/s\u001b[0m eta \u001b[36m0:00:00\u001b[0m\n",
            "\u001b[?25hDownloading sympy-1.14.0-py3-none-any.whl (6.3 MB)\n",
            "\u001b[2K   \u001b[90m━━━━━━━━━━━━━━━━━━━━━━━━━━━━━━━━━━━━━━━━\u001b[0m \u001b[32m6.3/6.3 MB\u001b[0m \u001b[31m112.2 MB/s\u001b[0m eta \u001b[36m0:00:00\u001b[0m\n",
            "\u001b[?25hInstalling collected packages: nvidia-cusparselt-cu12, triton, sympy, nvidia-nvtx-cu12, nvidia-nvjitlink-cu12, nvidia-nccl-cu12, nvidia-curand-cu12, nvidia-cufile-cu12, nvidia-cuda-runtime-cu12, nvidia-cuda-nvrtc-cu12, nvidia-cuda-cupti-cu12, nvidia-cublas-cu12, nvidia-cusparse-cu12, nvidia-cufft-cu12, nvidia-cudnn-cu12, nvidia-cusolver-cu12, torch, torchvision\n",
            "  Attempting uninstall: nvidia-cusparselt-cu12\n",
            "    Found existing installation: nvidia-cusparselt-cu12 0.6.2\n",
            "    Uninstalling nvidia-cusparselt-cu12-0.6.2:\n",
            "      Successfully uninstalled nvidia-cusparselt-cu12-0.6.2\n",
            "  Attempting uninstall: triton\n",
            "    Found existing installation: triton 3.2.0\n",
            "    Uninstalling triton-3.2.0:\n",
            "      Successfully uninstalled triton-3.2.0\n",
            "  Attempting uninstall: sympy\n",
            "    Found existing installation: sympy 1.13.1\n",
            "    Uninstalling sympy-1.13.1:\n",
            "      Successfully uninstalled sympy-1.13.1\n",
            "  Attempting uninstall: nvidia-nvtx-cu12\n",
            "    Found existing installation: nvidia-nvtx-cu12 12.4.127\n",
            "    Uninstalling nvidia-nvtx-cu12-12.4.127:\n",
            "      Successfully uninstalled nvidia-nvtx-cu12-12.4.127\n",
            "  Attempting uninstall: nvidia-nvjitlink-cu12\n",
            "    Found existing installation: nvidia-nvjitlink-cu12 12.5.82\n",
            "    Uninstalling nvidia-nvjitlink-cu12-12.5.82:\n",
            "      Successfully uninstalled nvidia-nvjitlink-cu12-12.5.82\n",
            "  Attempting uninstall: nvidia-nccl-cu12\n",
            "    Found existing installation: nvidia-nccl-cu12 2.23.4\n",
            "    Uninstalling nvidia-nccl-cu12-2.23.4:\n",
            "      Successfully uninstalled nvidia-nccl-cu12-2.23.4\n",
            "  Attempting uninstall: nvidia-curand-cu12\n",
            "    Found existing installation: nvidia-curand-cu12 10.3.6.82\n",
            "    Uninstalling nvidia-curand-cu12-10.3.6.82:\n",
            "      Successfully uninstalled nvidia-curand-cu12-10.3.6.82\n",
            "  Attempting uninstall: nvidia-cuda-runtime-cu12\n",
            "    Found existing installation: nvidia-cuda-runtime-cu12 12.5.82\n",
            "    Uninstalling nvidia-cuda-runtime-cu12-12.5.82:\n",
            "      Successfully uninstalled nvidia-cuda-runtime-cu12-12.5.82\n",
            "  Attempting uninstall: nvidia-cuda-nvrtc-cu12\n",
            "    Found existing installation: nvidia-cuda-nvrtc-cu12 12.5.82\n",
            "    Uninstalling nvidia-cuda-nvrtc-cu12-12.5.82:\n",
            "      Successfully uninstalled nvidia-cuda-nvrtc-cu12-12.5.82\n",
            "  Attempting uninstall: nvidia-cuda-cupti-cu12\n",
            "    Found existing installation: nvidia-cuda-cupti-cu12 12.5.82\n",
            "    Uninstalling nvidia-cuda-cupti-cu12-12.5.82:\n",
            "      Successfully uninstalled nvidia-cuda-cupti-cu12-12.5.82\n",
            "  Attempting uninstall: nvidia-cublas-cu12\n",
            "    Found existing installation: nvidia-cublas-cu12 12.5.3.2\n",
            "    Uninstalling nvidia-cublas-cu12-12.5.3.2:\n",
            "      Successfully uninstalled nvidia-cublas-cu12-12.5.3.2\n",
            "  Attempting uninstall: nvidia-cusparse-cu12\n",
            "    Found existing installation: nvidia-cusparse-cu12 12.5.1.3\n",
            "    Uninstalling nvidia-cusparse-cu12-12.5.1.3:\n",
            "      Successfully uninstalled nvidia-cusparse-cu12-12.5.1.3\n",
            "  Attempting uninstall: nvidia-cufft-cu12\n",
            "    Found existing installation: nvidia-cufft-cu12 11.2.3.61\n",
            "    Uninstalling nvidia-cufft-cu12-11.2.3.61:\n",
            "      Successfully uninstalled nvidia-cufft-cu12-11.2.3.61\n",
            "  Attempting uninstall: nvidia-cudnn-cu12\n",
            "    Found existing installation: nvidia-cudnn-cu12 9.3.0.75\n",
            "    Uninstalling nvidia-cudnn-cu12-9.3.0.75:\n",
            "      Successfully uninstalled nvidia-cudnn-cu12-9.3.0.75\n",
            "  Attempting uninstall: nvidia-cusolver-cu12\n",
            "    Found existing installation: nvidia-cusolver-cu12 11.6.3.83\n",
            "    Uninstalling nvidia-cusolver-cu12-11.6.3.83:\n",
            "      Successfully uninstalled nvidia-cusolver-cu12-11.6.3.83\n",
            "  Attempting uninstall: torch\n",
            "    Found existing installation: torch 2.6.0+cu124\n",
            "    Uninstalling torch-2.6.0+cu124:\n",
            "      Successfully uninstalled torch-2.6.0+cu124\n",
            "  Attempting uninstall: torchvision\n",
            "    Found existing installation: torchvision 0.21.0+cu124\n",
            "    Uninstalling torchvision-0.21.0+cu124:\n",
            "      Successfully uninstalled torchvision-0.21.0+cu124\n",
            "\u001b[31mERROR: pip's dependency resolver does not currently take into account all the packages that are installed. This behaviour is the source of the following dependency conflicts.\n",
            "torchaudio 2.6.0+cu124 requires torch==2.6.0, but you have torch 2.8.0 which is incompatible.\n",
            "fastai 2.7.19 requires torch<2.7,>=1.10, but you have torch 2.8.0 which is incompatible.\u001b[0m\u001b[31m\n",
            "\u001b[0mSuccessfully installed nvidia-cublas-cu12-12.8.4.1 nvidia-cuda-cupti-cu12-12.8.90 nvidia-cuda-nvrtc-cu12-12.8.93 nvidia-cuda-runtime-cu12-12.8.90 nvidia-cudnn-cu12-9.10.2.21 nvidia-cufft-cu12-11.3.3.83 nvidia-cufile-cu12-1.13.1.3 nvidia-curand-cu12-10.3.9.90 nvidia-cusolver-cu12-11.7.3.90 nvidia-cusparse-cu12-12.5.8.93 nvidia-cusparselt-cu12-0.7.1 nvidia-nccl-cu12-2.27.3 nvidia-nvjitlink-cu12-12.8.93 nvidia-nvtx-cu12-12.8.90 sympy-1.14.0 torch-2.8.0 torchvision-0.23.0 triton-3.4.0\n",
            "\u001b[31mERROR: Could not find a version that satisfies the requirement decord==0.6.4 (from versions: 0.0.1b20190911, 0.0.1b20190912, 0.0.1b20190913, 0.0.1b20190927, 0.2.0b20190927, 0.2.0b20190929, 0.3.0, 0.3.1, 0.3.2, 0.3.3, 0.3.4, 0.3.5, 0.3.6, 0.3.7, 0.3.8, 0.3.9, 0.4.0, 0.4.1, 0.4.2, 0.5.0, 0.5.1, 0.5.2, 0.6.0)\u001b[0m\u001b[31m\n",
            "\u001b[0m\u001b[31mERROR: No matching distribution found for decord==0.6.4\u001b[0m\u001b[31m\n",
            "\u001b[0m"
          ]
        }
      ]
    },
    {
      "cell_type": "code",
      "source": [
        "!unzip -q /content/drive/MyDrive/Priyanka_Project/NORMAL.zip -d /content\n",
        "!unzip -q /content/drive/MyDrive/Priyanka_Project/cashlifting.zip -d /content"
      ],
      "metadata": {
        "id": "uvX9if4rlsEn"
      },
      "execution_count": 1,
      "outputs": []
    },
    {
      "cell_type": "code",
      "source": [
        "# Update these to your paths (you said the data is already at these locations)\n",
        "NORMAL_DIR = \"/content/NORAML \"          # -> contains 2 x 1hr normal videos (.mp4/.avi/.dav converted to mp4)\n",
        "CASHLIFT_DIR = \"/content/cashlifting\"  # -> contains 5 clips (mp4)\n",
        "OUTPUT_CLIPS_DIR = \"/content/clip_dataset\"   # where labeled clips will be saved\n",
        "MODEL_DIR = \"/content/drive/MyDrive/cashlift_model\"  # save trained model to Drive\n",
        "\n",
        "\n",
        "import os\n",
        "os.makedirs(OUTPUT_CLIPS_DIR, exist_ok=True)\n",
        "os.makedirs(MODEL_DIR, exist_ok=True)\n",
        "print(\"Paths set. NORMAL_DIR:\", NORMAL_DIR, \"CASHLIFT_DIR:\", CASHLIFT_DIR)"
      ],
      "metadata": {
        "colab": {
          "base_uri": "https://localhost:8080/"
        },
        "id": "9ODxSPcTlpGk",
        "outputId": "3e5c0901-883d-4893-9ae4-03e9f016e5bd"
      },
      "execution_count": 4,
      "outputs": [
        {
          "output_type": "stream",
          "name": "stdout",
          "text": [
            "Paths set. NORMAL_DIR: /content/NORAML  CASHLIFT_DIR: /content/cashlifting\n"
          ]
        }
      ]
    },
    {
      "cell_type": "code",
      "source": [
        "\n",
        "import os, subprocess, glob\n",
        "folders = [\"/content/NORMAL\", \"/content/cashlifting\"]\n",
        "for folder in folders:\n",
        "    if not os.path.exists(folder):\n",
        "        continue\n",
        "    for f in os.listdir(folder):\n",
        "        if f.lower().endswith(\".dav\"):\n",
        "            inpath = os.path.join(folder,f)\n",
        "            outpath = os.path.join(folder, os.path.splitext(f)[0] + \".mp4\")\n",
        "            if os.path.exists(outpath):\n",
        "                print(\"exists\", outpath); continue\n",
        "            cmd = [\"ffmpeg\",\"-i\", inpath, \"-c:v\", \"libx264\", \"-preset\", \"fast\", \"-crf\", \"23\", outpath, \"-y\"]\n",
        "            print(\"Converting\", inpath, \"->\", outpath)\n",
        "            subprocess.run(cmd, check=True)\n",
        "print(\"Done\")\n",
        "\n"
      ],
      "metadata": {
        "colab": {
          "base_uri": "https://localhost:8080/"
        },
        "id": "fTGNut65l9-9",
        "outputId": "4bc0f596-1604-47bb-e7b4-2dffdbd02b0e"
      },
      "execution_count": 5,
      "outputs": [
        {
          "output_type": "stream",
          "name": "stdout",
          "text": [
            "exists /content/cashlifting/cctv_CAM 5_main_20250524212350.mp4\n",
            "exists /content/cashlifting/cctv_CAM 5_main_20250524212319.mp4\n",
            "exists /content/cashlifting/cctv_CAM 5_main_20250524212558.mp4\n",
            "exists /content/cashlifting/cctv_CAM 5_main_20250524212334.mp4\n",
            "exists /content/cashlifting/cctv_CAM 5_main_20250524212746.mp4\n",
            "exists /content/cashlifting/cctv_CAM 5_main_20250524212730.mp4\n",
            "Done\n"
          ]
        }
      ]
    },
    {
      "cell_type": "code",
      "source": [
        "# ============================\n",
        "# Optimized GPU Clip Extraction (First 3 min for NORMAL)\n",
        "# ============================\n",
        "\n",
        "!pip install ffmpeg-python decord imageio tqdm\n",
        "\n",
        "import os, uuid, shutil, tempfile\n",
        "from decord import VideoReader, cpu, gpu\n",
        "import numpy as np\n",
        "from tqdm import tqdm\n",
        "import imageio\n",
        "import ffmpeg\n",
        "\n",
        "# ==== CONFIG ====\n",
        "CLIP_LEN = 5       # seconds\n",
        "STRIDE = 2         # seconds between clip starts\n",
        "FPS_TARGET = 15    # fps for output clips\n",
        "max_normal_clips = 500   # reduce for testing\n",
        "max_cash_clips = None    # None -> all\n",
        "MAX_NORMAL_DURATION = 180  # seconds (3 minutes)\n",
        "\n",
        "# Paths\n",
        "NORMAL_DIR = \"/content/NORAML \"\n",
        "CASHLIFT_DIR = \"/content/cashlifting\"\n",
        "OUTPUT_CLIPS_DIR = \"/content/clips\"\n",
        "\n",
        "# Output folders\n",
        "for split in [\"train\", \"val\"]:\n",
        "    for cls in [\"normal\", \"cashlifting\"]:\n",
        "        os.makedirs(os.path.join(OUTPUT_CLIPS_DIR, split, cls), exist_ok=True)\n",
        "\n",
        "# ============================\n",
        "# Save clip to disk with low RAM usage\n",
        "# ============================\n",
        "def save_clip_frames(frames, out_path, fps=FPS_TARGET):\n",
        "    tmp_img_dir = tempfile.mkdtemp()\n",
        "    for i, f in enumerate(frames):\n",
        "        imageio.imwrite(os.path.join(tmp_img_dir, f\"{i:06d}.jpg\"), f, quality=90)\n",
        "    (\n",
        "        ffmpeg\n",
        "        .input(os.path.join(tmp_img_dir, '%06d.jpg'), framerate=fps)\n",
        "        .output(out_path, vcodec='libx264', crf=23, pix_fmt='yuv420p')\n",
        "        .overwrite_output()\n",
        "        .run(quiet=True)\n",
        "    )\n",
        "    shutil.rmtree(tmp_img_dir)\n",
        "\n",
        "# ============================\n",
        "# Extract clips from one video\n",
        "# ============================\n",
        "def extract_clips_from_video(video_path, out_dir, clip_len=CLIP_LEN, stride=STRIDE, fps_target=FPS_TARGET, max_clips=None, max_duration=None):\n",
        "    try:\n",
        "        vr = VideoReader(video_path, ctx=gpu(0))  # Use GPU decoding\n",
        "    except:\n",
        "        vr = VideoReader(video_path, ctx=cpu(0))  # Fallback to CPU if GPU decoding not available\n",
        "\n",
        "    src_fps = float(vr.get_avg_fps())\n",
        "    total_frames = len(vr)\n",
        "    duration = total_frames / src_fps\n",
        "\n",
        "    # Limit duration if requested\n",
        "    if max_duration is not None:\n",
        "        duration = min(duration, max_duration)\n",
        "\n",
        "    starts = np.arange(0, max(0, duration - clip_len + 1e-3), stride)\n",
        "    saved = 0\n",
        "\n",
        "    for s in tqdm(starts, desc=os.path.basename(video_path)):\n",
        "        if max_clips is not None and saved >= max_clips:\n",
        "            break\n",
        "\n",
        "        t0, t1 = s, s + clip_len\n",
        "        times = np.linspace(t0, t1, int(round(clip_len * fps_target)), endpoint=False)\n",
        "        idxs = np.clip((times * src_fps).astype(int), 0, total_frames - 1)\n",
        "\n",
        "        frames = []\n",
        "        for i in idxs:\n",
        "            frames.append(vr[i].asnumpy()[:,:,::-1])  # BGR → RGB\n",
        "\n",
        "        if len(frames) < 3:\n",
        "            continue\n",
        "\n",
        "        out_p = os.path.join(out_dir, f\"{os.path.splitext(os.path.basename(video_path))[0]}_{int(s)}_{uuid.uuid4().hex[:6]}.mp4\")\n",
        "        save_clip_frames(frames, out_p, fps=fps_target)\n",
        "        saved += 1\n",
        "\n",
        "    return saved\n",
        "\n",
        "# ============================\n",
        "# Process Videos\n",
        "# ============================\n",
        "normal_files = [os.path.join(NORMAL_DIR, f) for f in os.listdir(NORMAL_DIR) if f.lower().endswith((\".mp4\", \".avi\", \".mov\"))]\n",
        "cash_files = [os.path.join(CASHLIFT_DIR, f) for f in os.listdir(CASHLIFT_DIR) if f.lower().endswith((\".mp4\", \".avi\", \".mov\"))]\n",
        "\n",
        "# Normal videos (first 3 minutes only)\n",
        "normal_saved = 0\n",
        "for nf in normal_files:\n",
        "    remaining = None if max_normal_clips is None else max_normal_clips - normal_saved\n",
        "    if remaining is not None and remaining <= 0:\n",
        "        break\n",
        "    saved = extract_clips_from_video(\n",
        "        nf,\n",
        "        os.path.join(OUTPUT_CLIPS_DIR, \"train\", \"normal\"),\n",
        "        max_clips=remaining,\n",
        "        max_duration=MAX_NORMAL_DURATION\n",
        "    )\n",
        "    normal_saved += saved\n",
        "\n",
        "# Cashlifting videos (full length)\n",
        "cash_saved = 0\n",
        "for cf in cash_files:\n",
        "    saved = extract_clips_from_video(\n",
        "        cf,\n",
        "        os.path.join(OUTPUT_CLIPS_DIR, \"train\", \"cashlifting\"),\n",
        "        max_clips=max_cash_clips\n",
        "    )\n",
        "    cash_saved += saved\n",
        "\n",
        "print(\"✅ Saved normal clips:\", normal_saved, \" | Saved cash clips:\", cash_saved)\n",
        "\n",
        "\n",
        "'''\n",
        "This Crashes at normal of 1 video then we will pause and save that to the drive\n",
        "'''"
      ],
      "metadata": {
        "colab": {
          "base_uri": "https://localhost:8080/"
        },
        "id": "_jo5-WSemGLt",
        "outputId": "d0c176b8-d847-42c5-f72d-a335f7e923fe"
      },
      "execution_count": null,
      "outputs": [
        {
          "output_type": "stream",
          "name": "stdout",
          "text": [
            "Requirement already satisfied: ffmpeg-python in /usr/local/lib/python3.11/dist-packages (0.2.0)\n",
            "Requirement already satisfied: decord in /usr/local/lib/python3.11/dist-packages (0.6.0)\n",
            "Requirement already satisfied: imageio in /usr/local/lib/python3.11/dist-packages (2.37.0)\n",
            "Requirement already satisfied: tqdm in /usr/local/lib/python3.11/dist-packages (4.67.1)\n",
            "Requirement already satisfied: future in /usr/local/lib/python3.11/dist-packages (from ffmpeg-python) (1.0.0)\n",
            "Requirement already satisfied: numpy>=1.14.0 in /usr/local/lib/python3.11/dist-packages (from decord) (2.0.2)\n",
            "Requirement already satisfied: pillow>=8.3.2 in /usr/local/lib/python3.11/dist-packages (from imageio) (11.3.0)\n"
          ]
        },
        {
          "output_type": "stream",
          "name": "stderr",
          "text": [
            "video13.mp4: 100%|██████████| 88/88 [33:06<00:00, 22.58s/it]\n",
            "video1.mp4:   0%|          | 0/88 [00:00<?, ?it/s]"
          ]
        }
      ]
    },
    {
      "cell_type": "code",
      "source": [
        "import os\n",
        "import shutil\n",
        "\n",
        "# 1️⃣ Set source and destination paths\n",
        "# 2️⃣ Set source and destination paths\n",
        "src_folder = \"/content/clips/train/normal\"\n",
        "dst_folder = \"/content/drive/MyDrive/clips/train/normal\"\n",
        "\n",
        "# 3️⃣ Create destination folder if not exists\n",
        "os.makedirs(dst_folder, exist_ok=True)\n",
        "\n",
        "# 4️⃣ Copy files\n",
        "shutil.copytree(src_folder, dst_folder, dirs_exist_ok=True)\n",
        "\n",
        "print(f\"✅ All clips saved to: {dst_folder}\")"
      ],
      "metadata": {
        "colab": {
          "base_uri": "https://localhost:8080/"
        },
        "id": "Euo2_HjEm_ww",
        "outputId": "928d796c-0191-4b10-a1a1-0665b514d320"
      },
      "execution_count": 3,
      "outputs": [
        {
          "output_type": "stream",
          "name": "stdout",
          "text": [
            "✅ All clips saved to: /content/drive/MyDrive/clips/train/normal\n"
          ]
        }
      ]
    },
    {
      "cell_type": "code",
      "source": [
        "import cv2\n",
        "import os\n",
        "from pathlib import Path\n",
        "\n",
        "# Paths\n",
        "normal_dir = \"/content/NORAML \"\n",
        "cashlifting_dir = \"/content/cashlifting\"\n",
        "output_dir = \"/content/clips\"\n",
        "os.makedirs(output_dir, exist_ok=True)\n",
        "\n",
        "# Parameters\n",
        "clip_len = 5  # seconds per clip\n",
        "fps_target = 15\n",
        "stride = 5    # seconds between clips\n",
        "\n",
        "def extract_clips(video_path, out_dir, clip_len, stride, fps_target):\n",
        "    cap = cv2.VideoCapture(video_path)\n",
        "    if not cap.isOpened():\n",
        "        print(f\"❌ Failed to open {video_path}\")\n",
        "        return\n",
        "\n",
        "    fps = cap.get(cv2.CAP_PROP_FPS) or fps_target\n",
        "    total_frames = int(cap.get(cv2.CAP_PROP_FRAME_COUNT))\n",
        "    duration = total_frames / fps\n",
        "    frame_step = int(fps * stride)\n",
        "    clip_frame_len = int(fps * clip_len)\n",
        "\n",
        "    vid_name = Path(video_path).stem\n",
        "    frame_idx = 0\n",
        "    clip_idx = 0\n",
        "\n",
        "    while frame_idx + clip_frame_len < total_frames:\n",
        "        cap.set(cv2.CAP_PROP_POS_FRAMES, frame_idx)\n",
        "        frames = []\n",
        "        for _ in range(clip_frame_len):\n",
        "            ret, frame = cap.read()\n",
        "            if not ret:\n",
        "                break\n",
        "            frame = cv2.resize(frame, (224, 224))\n",
        "            frames.append(frame)\n",
        "\n",
        "        if len(frames) == clip_frame_len:\n",
        "            out_path = os.path.join(out_dir, f\"{vid_name}_clip{clip_idx}.mp4\")\n",
        "            out = cv2.VideoWriter(out_path, cv2.VideoWriter_fourcc(*'mp4v'), fps_target, (224, 224))\n",
        "            for f in frames:\n",
        "                out.write(f)\n",
        "            out.release()\n",
        "\n",
        "        clip_idx += 1\n",
        "        frame_idx += frame_step\n",
        "\n",
        "    cap.release()\n",
        "    print(f\"✅ Processed {video_path} into {clip_idx} clips\")\n",
        "\n",
        "# Process all videos\n",
        "for folder, label in [(normal_dir, \"normal\"), (cashlifting_dir, \"cashlifting\")]:\n",
        "    label_dir = os.path.join(output_dir, label)\n",
        "    os.makedirs(label_dir, exist_ok=True)\n",
        "    for vid in os.listdir(folder):\n",
        "        vid_path = os.path.join(folder, vid)\n",
        "        extract_clips(vid_path, label_dir, clip_len, stride, fps_target)"
      ],
      "metadata": {
        "colab": {
          "base_uri": "https://localhost:8080/"
        },
        "id": "oXPcsygszqCK",
        "outputId": "ad59c3a6-0c5f-4fb4-80e4-4748681a9f33"
      },
      "execution_count": 8,
      "outputs": [
        {
          "metadata": {
            "tags": null
          },
          "name": "stdout",
          "output_type": "stream",
          "text": [
            "✅ Processed /content/NORAML /video13.mp4 into 719 clips\n",
            "✅ Processed /content/NORAML /video1.mp4 into 719 clips\n",
            "✅ Processed /content/cashlifting/cctv_CAM 5_main_20250524212350.dav into 1 clips\n",
            "✅ Processed /content/cashlifting/cctv_CAM 5_main_20250524212319.dav into 1 clips\n",
            "✅ Processed /content/cashlifting/cctv_CAM 5_main_20250524212350.mp4 into 1 clips\n",
            "✅ Processed /content/cashlifting/cctv_CAM 5_main_20250524212746.mp4 into 1 clips\n",
            "✅ Processed /content/cashlifting/cctv_CAM 5_main_20250524212558.dav into 1 clips\n",
            "✅ Processed /content/cashlifting/cctv_CAM 5_main_20250524212334.dav into 2 clips\n",
            "✅ Processed /content/cashlifting/cctv_CAM 5_main_20250524212334.mp4 into 2 clips\n",
            "✅ Processed /content/cashlifting/cctv_CAM 5_main_20250524212730.mp4 into 2 clips\n",
            "✅ Processed /content/cashlifting/cctv_CAM 5_main_20250524212558.mp4 into 2 clips\n",
            "✅ Processed /content/cashlifting/cctv_CAM 5_main_20250524212319.mp4 into 2 clips\n",
            "✅ Processed /content/cashlifting/cctv_CAM 5_main_20250524212746.dav into 1 clips\n",
            "✅ Processed /content/cashlifting/cctv_CAM 5_main_20250524212730.dav into 1 clips\n"
          ]
        }
      ]
    },
    {
      "cell_type": "markdown",
      "source": [
        "##Processing the videos and clips"
      ],
      "metadata": {
        "id": "5vwAUsn04iyx"
      }
    },
    {
      "cell_type": "code",
      "source": [
        "!unzip -q /content/drive/MyDrive/Priyanka_Project/cashlifting.zip -d /content"
      ],
      "metadata": {
        "id": "-FKDQPB49Hj-"
      },
      "execution_count": 3,
      "outputs": []
    },
    {
      "cell_type": "code",
      "source": [
        "# Install ffmpeg\n",
        "!apt-get install -y ffmpeg\n",
        "\n",
        "import os\n",
        "import subprocess\n",
        "\n",
        "# Input and output folders\n",
        "input_folder = \"/content/cashlifting\"\n",
        "output_folder = \"/content/cashlifting_mp4\"\n",
        "os.makedirs(output_folder, exist_ok=True)\n",
        "\n",
        "# Convert all .dav files to .mp4\n",
        "for file in os.listdir(input_folder):\n",
        "    if file.lower().endswith(\".dav\"):\n",
        "        input_path = os.path.join(input_folder, file)\n",
        "        output_path = os.path.join(output_folder, os.path.splitext(file)[0] + \".mp4\")\n",
        "        print(f\"Converting {file} → {os.path.basename(output_path)}\")\n",
        "        subprocess.run([\"ffmpeg\", \"-i\", input_path, \"-c:v\", \"libx264\", \"-preset\", \"fast\", \"-crf\", \"22\", \"-c:a\", \"aac\", output_path])\n",
        "\n",
        "print(\"✅ All .dav files converted to .mp4!\")\n"
      ],
      "metadata": {
        "colab": {
          "base_uri": "https://localhost:8080/"
        },
        "id": "o8ZHrFjg-rnv",
        "outputId": "8645acd1-a22f-4964-c4ed-ddc825bd8305"
      },
      "execution_count": 4,
      "outputs": [
        {
          "output_type": "stream",
          "name": "stdout",
          "text": [
            "Reading package lists... Done\n",
            "Building dependency tree... Done\n",
            "Reading state information... Done\n",
            "ffmpeg is already the newest version (7:4.4.2-0ubuntu0.22.04.1).\n",
            "0 upgraded, 0 newly installed, 0 to remove and 35 not upgraded.\n",
            "Converting cctv_CAM 5_main_20250524212350.dav → cctv_CAM 5_main_20250524212350.mp4\n",
            "Converting cctv_CAM 5_main_20250524212319.dav → cctv_CAM 5_main_20250524212319.mp4\n",
            "Converting cctv_CAM 5_main_20250524212558.dav → cctv_CAM 5_main_20250524212558.mp4\n",
            "Converting cctv_CAM 5_main_20250524212334.dav → cctv_CAM 5_main_20250524212334.mp4\n",
            "Converting cctv_CAM 5_main_20250524212746.dav → cctv_CAM 5_main_20250524212746.mp4\n",
            "Converting cctv_CAM 5_main_20250524212730.dav → cctv_CAM 5_main_20250524212730.mp4\n",
            "✅ All .dav files converted to .mp4!\n"
          ]
        }
      ]
    },
    {
      "cell_type": "code",
      "source": [
        "import os\n",
        "import cv2\n",
        "import numpy as np\n",
        "from sklearn.model_selection import train_test_split\n",
        "from tensorflow.keras.utils import to_categorical\n",
        "from tensorflow.keras.applications.mobilenet_v2 import preprocess_input\n",
        "import random\n",
        "\n",
        "# Paths\n",
        "normal_path = \"/content/drive/MyDrive/clips/train/normal\"\n",
        "cashlifting_path = \"/content/cashlifting_mp4\"\n",
        "TARGET_SIZE = (128, 128)\n",
        "SAMPLES_PER_CLASS = 21  # fixed number per class\n",
        "\n",
        "# Function to load frames from videos\n",
        "def load_frames_from_folder(folder, label, max_samples):\n",
        "    frames, labels = [], []\n",
        "    files = [f for f in os.listdir(folder) if f.lower().endswith(\".mp4\")]\n",
        "    random.shuffle(files)  # randomize selection\n",
        "    files = files[:max_samples]  # pick fixed number\n",
        "    for file in files:\n",
        "        cap = cv2.VideoCapture(os.path.join(folder, file))\n",
        "        ret, frame = cap.read()\n",
        "        cap.release()\n",
        "        if ret:\n",
        "            frame = cv2.resize(frame, TARGET_SIZE)\n",
        "            frames.append(frame)\n",
        "            labels.append(label)\n",
        "    return frames, labels\n",
        "\n",
        "# Load dataset (balanced)\n",
        "X_normal, y_normal = load_frames_from_folder(normal_path, 0, SAMPLES_PER_CLASS)\n",
        "X_cash, y_cash = load_frames_from_folder(cashlifting_path, 1, SAMPLES_PER_CLASS)\n",
        "\n",
        "# Combine and shuffle\n",
        "X = np.array(X_normal + X_cash, dtype=\"float32\")\n",
        "y = np.array(y_normal + y_cash)\n",
        "indices = np.arange(len(X))\n",
        "np.random.shuffle(indices)\n",
        "X = X[indices]\n",
        "y = y[indices]\n",
        "\n",
        "# Preprocess\n",
        "X = preprocess_input(X)\n",
        "y = to_categorical(y, num_classes=2)\n",
        "\n",
        "print(f\"📊 Total dataset size: {len(X)} samples ({SAMPLES_PER_CLASS} per class)\")\n",
        "\n",
        "# Train-test split\n",
        "X_train, X_test, y_train, y_test = train_test_split(\n",
        "    X, y, test_size=0.2, stratify=y, random_state=42\n",
        ")\n",
        "\n",
        "print(f\"✅ Training set: {len(X_train)} samples\")\n",
        "print(f\"✅ Test set: {len(X_test)} samples\")\n"
      ],
      "metadata": {
        "colab": {
          "base_uri": "https://localhost:8080/"
        },
        "id": "3I6aa2UZ7bCb",
        "outputId": "6f2bee42-c661-4009-9edd-588fe113c195"
      },
      "execution_count": 9,
      "outputs": [
        {
          "output_type": "stream",
          "name": "stdout",
          "text": [
            "📊 Total dataset size: 27 samples (21 per class)\n",
            "✅ Training set: 21 samples\n",
            "✅ Test set: 6 samples\n"
          ]
        }
      ]
    },
    {
      "cell_type": "code",
      "source": [
        "import tensorflow as tf\n",
        "from tensorflow.keras.applications import MobileNetV2\n",
        "from tensorflow.keras.models import Sequential\n",
        "from tensorflow.keras.layers import GlobalAveragePooling2D, Dense, Dropout\n",
        "from tensorflow.keras.optimizers import Adam\n",
        "from sklearn.metrics import classification_report, confusion_matrix\n",
        "import matplotlib.pyplot as plt\n",
        "import seaborn as sns\n",
        "import numpy as np\n",
        "\n",
        "# Check GPU\n",
        "print(\"Num GPUs Available: \", len(tf.config.list_physical_devices('GPU')))\n",
        "if not tf.config.list_physical_devices('GPU'):\n",
        "    print(\"⚠️ WARNING: No GPU found. Training will be slow.\")\n",
        "\n",
        "# Build model\n",
        "base_model = MobileNetV2(weights=\"imagenet\", include_top=False, input_shape=(TARGET_SIZE[0], TARGET_SIZE[1], 3))\n",
        "base_model.trainable = False\n",
        "\n",
        "model = Sequential([\n",
        "    base_model,\n",
        "    GlobalAveragePooling2D(),\n",
        "    Dropout(0.3),\n",
        "    Dense(2, activation=\"softmax\")\n",
        "])\n",
        "\n",
        "model.compile(optimizer=Adam(1e-4), loss=\"categorical_crossentropy\", metrics=[\"accuracy\"])\n",
        "\n",
        "print(\"🚀 Starting training...\")\n",
        "model.fit(X_train, y_train, validation_data=(X_test, y_test), epochs=5, batch_size=16)\n",
        "\n",
        "# Save model\n",
        "model.save(\"/content/cashlifting_classifier.h5\")\n",
        "print(\"💾 Model saved as /content/cashlifting_classifier.h5\")\n",
        "\n",
        "# Evaluate\n",
        "loss, acc = model.evaluate(X_test, y_test)\n",
        "print(f\"✅ Test Accuracy: {acc*100:.2f}%\")\n",
        "\n",
        "# Predictions\n",
        "y_pred_probs = model.predict(X_test)\n",
        "y_pred = np.argmax(y_pred_probs, axis=1)\n",
        "y_true = np.argmax(y_test, axis=1)\n",
        "\n",
        "print(\"\\n📊 Classification Report:\")\n",
        "print(classification_report(y_true, y_pred, target_names=[\"normal\", \"cashlifting\"]))\n",
        "\n",
        "# Confusion Matrix\n",
        "cm = confusion_matrix(y_true, y_pred)\n",
        "plt.figure(figsize=(5,4))\n",
        "sns.heatmap(cm, annot=True, fmt=\"d\", cmap=\"Blues\", xticklabels=[\"normal\", \"cashlifting\"], yticklabels=[\"normal\", \"cashlifting\"])\n",
        "plt.xlabel(\"Predicted\")\n",
        "plt.ylabel(\"Actual\")\n",
        "plt.title(\"Confusion Matrix\")\n",
        "plt.show()\n"
      ],
      "metadata": {
        "colab": {
          "base_uri": "https://localhost:8080/",
          "height": 916
        },
        "id": "HjRpav-wBaKb",
        "outputId": "e67ac526-e42f-4f36-9cac-b77b37ec52f0"
      },
      "execution_count": 10,
      "outputs": [
        {
          "output_type": "stream",
          "name": "stdout",
          "text": [
            "Num GPUs Available:  1\n",
            "🚀 Starting training...\n",
            "Epoch 1/5\n",
            "\u001b[1m2/2\u001b[0m \u001b[32m━━━━━━━━━━━━━━━━━━━━\u001b[0m\u001b[37m\u001b[0m \u001b[1m18s\u001b[0m 9s/step - accuracy: 0.3264 - loss: 1.1898 - val_accuracy: 0.1667 - val_loss: 1.3404\n",
            "Epoch 2/5\n",
            "\u001b[1m2/2\u001b[0m \u001b[32m━━━━━━━━━━━━━━━━━━━━\u001b[0m\u001b[37m\u001b[0m \u001b[1m8s\u001b[0m 71ms/step - accuracy: 0.3790 - loss: 1.2544 - val_accuracy: 0.1667 - val_loss: 1.2370\n",
            "Epoch 3/5\n",
            "\u001b[1m2/2\u001b[0m \u001b[32m━━━━━━━━━━━━━━━━━━━━\u001b[0m\u001b[37m\u001b[0m \u001b[1m0s\u001b[0m 66ms/step - accuracy: 0.5575 - loss: 0.8932 - val_accuracy: 0.1667 - val_loss: 1.1425\n",
            "Epoch 4/5\n",
            "\u001b[1m2/2\u001b[0m \u001b[32m━━━━━━━━━━━━━━━━━━━━\u001b[0m\u001b[37m\u001b[0m \u001b[1m0s\u001b[0m 109ms/step - accuracy: 0.3681 - loss: 1.0868 - val_accuracy: 0.1667 - val_loss: 1.0591\n",
            "Epoch 5/5\n",
            "\u001b[1m2/2\u001b[0m \u001b[32m━━━━━━━━━━━━━━━━━━━━\u001b[0m\u001b[37m\u001b[0m \u001b[1m0s\u001b[0m 107ms/step - accuracy: 0.4107 - loss: 1.0963 - val_accuracy: 0.1667 - val_loss: 0.9866\n"
          ]
        },
        {
          "output_type": "stream",
          "name": "stderr",
          "text": [
            "WARNING:absl:You are saving your model as an HDF5 file via `model.save()` or `keras.saving.save_model(model)`. This file format is considered legacy. We recommend using instead the native Keras format, e.g. `model.save('my_model.keras')` or `keras.saving.save_model(model, 'my_model.keras')`. \n"
          ]
        },
        {
          "output_type": "stream",
          "name": "stdout",
          "text": [
            "💾 Model saved as /content/cashlifting_classifier.h5\n",
            "\u001b[1m1/1\u001b[0m \u001b[32m━━━━━━━━━━━━━━━━━━━━\u001b[0m\u001b[37m\u001b[0m \u001b[1m0s\u001b[0m 44ms/step - accuracy: 0.1667 - loss: 0.9866\n",
            "✅ Test Accuracy: 16.67%\n",
            "\u001b[1m1/1\u001b[0m \u001b[32m━━━━━━━━━━━━━━━━━━━━\u001b[0m\u001b[37m\u001b[0m \u001b[1m4s\u001b[0m 4s/step\n",
            "\n",
            "📊 Classification Report:\n",
            "              precision    recall  f1-score   support\n",
            "\n",
            "      normal       0.50      0.20      0.29         5\n",
            " cashlifting       0.00      0.00      0.00         1\n",
            "\n",
            "    accuracy                           0.17         6\n",
            "   macro avg       0.25      0.10      0.14         6\n",
            "weighted avg       0.42      0.17      0.24         6\n",
            "\n"
          ]
        },
        {
          "output_type": "display_data",
          "data": {
            "text/plain": [
              "<Figure size 500x400 with 2 Axes>"
            ],
            "image/png": "[encoded data removed]"
          },
          "metadata": {}
        }
      ]
    },
    {
      "cell_type": "markdown",
      "source": [
        "## Testing the code"
      ],
      "metadata": {
        "id": "P9mFWIQVAbVJ"
      }
    },
    {
      "cell_type": "code",
      "source": [
        "# =========================\n",
        "#  TEST ON A SINGLE VIDEO\n",
        "# =========================\n",
        "\n",
        "def predict_single_video(video_path, model, target_size=(128, 128)):\n",
        "    import cv2\n",
        "    if not os.path.exists(video_path):\n",
        "        print(f\"File not found: {video_path}\")\n",
        "        return\n",
        "\n",
        "    cap = cv2.VideoCapture(video_path)\n",
        "    ret, frame = cap.read()\n",
        "    cap.release()\n",
        "\n",
        "    if not ret:\n",
        "        print(\" Could not read frame from video.\")\n",
        "        return\n",
        "\n",
        "    # Preprocess\n",
        "    frame = cv2.resize(frame, target_size)\n",
        "    frame = np.expand_dims(frame, axis=0).astype(\"float32\")\n",
        "    frame = preprocess_input(frame)\n",
        "\n",
        "    # Predict\n",
        "    pred = model.predict(frame)\n",
        "    class_idx = np.argmax(pred, axis=1)[0]\n",
        "    class_names = [\"normal\", \"cashlifting\"]\n",
        "    confidence = pred[0][class_idx] * 100\n",
        "\n",
        "    print(f\" Prediction: {class_names[class_idx]} ({confidence:.2f}% confidence)\")\n",
        "\n",
        "# Example usage:\n",
        "test_video_path = \"/content/cashlifting_mp4/cctv_CAM 5_main_20250524212350.mp4\"\n",
        "predict_single_video(test_video_path, model)"
      ],
      "metadata": {
        "colab": {
          "base_uri": "https://localhost:8080/"
        },
        "id": "BlL6DI_j808d",
        "outputId": "390eade3-6854-4d6f-98d9-05a1406116e4"
      },
      "execution_count": 16,
      "outputs": [
        {
          "output_type": "stream",
          "name": "stdout",
          "text": [
            "\u001b[1m1/1\u001b[0m \u001b[32m━━━━━━━━━━━━━━━━━━━━\u001b[0m\u001b[37m\u001b[0m \u001b[1m0s\u001b[0m 152ms/step\n",
            "🎯 Prediction: cashlifting (75.98% confidence)\n"
          ]
        }
      ]
    },
    {
      "cell_type": "code",
      "source": [
        "# =========================\n",
        "# 📌 TEST ON A SINGLE VIDEO\n",
        "# =========================\n",
        "\n",
        "def predict_single_video(video_path, model, target_size=(128, 128)):\n",
        "    import cv2\n",
        "    if not os.path.exists(video_path):\n",
        "        print(f\"❌ File not found: {video_path}\")\n",
        "        return\n",
        "\n",
        "    cap = cv2.VideoCapture(video_path)\n",
        "    ret, frame = cap.read()\n",
        "    cap.release()\n",
        "\n",
        "    if not ret:\n",
        "        print(\"❌ Could not read frame from video.\")\n",
        "        return\n",
        "\n",
        "    # Preprocess\n",
        "    frame = cv2.resize(frame, target_size)\n",
        "    frame = np.expand_dims(frame, axis=0).astype(\"float32\")\n",
        "    frame = preprocess_input(frame)\n",
        "\n",
        "    # Predict\n",
        "    pred = model.predict(frame)\n",
        "    class_idx = np.argmax(pred, axis=1)[0]\n",
        "    class_names = [\"normal\", \"cashlifting\"]\n",
        "    confidence = pred[0][class_idx] * 100\n",
        "\n",
        "    print(f\"🎯 Prediction: {class_names[class_idx]} ({confidence:.2f}% confidence)\")\n",
        "\n",
        "# Example usage:\n",
        "test_video_path = \"/content/cashlifting_mp4/cctv_CAM 5_main_20250524212319.mp4\"\n",
        "predict_single_video(test_video_path, model)"
      ],
      "metadata": {
        "colab": {
          "base_uri": "https://localhost:8080/"
        },
        "id": "nCPecZqjAWCV",
        "outputId": "e47f76ec-f917-4e4d-d8d6-054d3f1560ef"
      },
      "execution_count": 17,
      "outputs": [
        {
          "output_type": "stream",
          "name": "stdout",
          "text": [
            "\u001b[1m1/1\u001b[0m \u001b[32m━━━━━━━━━━━━━━━━━━━━\u001b[0m\u001b[37m\u001b[0m \u001b[1m0s\u001b[0m 35ms/step\n",
            "🎯 Prediction: normal (81.67% confidence)\n"
          ]
        }
      ]
    },
    {
      "cell_type": "code",
      "source": [],
      "metadata": {
        "id": "zyfaGm75Cw7i"
      },
      "execution_count": null,
      "outputs": []
    }
  ]
}